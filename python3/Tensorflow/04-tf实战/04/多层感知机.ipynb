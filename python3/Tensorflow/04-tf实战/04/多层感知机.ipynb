{
 "cells": [
  {
   "cell_type": "code",
   "execution_count": 1,
   "metadata": {},
   "outputs": [
    {
     "name": "stdout",
     "output_type": "stream",
     "text": [
      "Extracting MNIST_data/train-images-idx3-ubyte.gz\n",
      "Extracting MNIST_data/train-labels-idx1-ubyte.gz\n",
      "Extracting MNIST_data/t10k-images-idx3-ubyte.gz\n",
      "Extracting MNIST_data/t10k-labels-idx1-ubyte.gz\n",
      "0 training_arruracy: 0.2976\n",
      "200 training_arruracy: 0.9431\n",
      "400 training_arruracy: 0.9504\n",
      "600 training_arruracy: 0.9626\n",
      "800 training_arruracy: 0.9676\n",
      "1000 training_arruracy: 0.9725\n",
      "1200 training_arruracy: 0.972\n",
      "1400 training_arruracy: 0.9753\n",
      "1600 training_arruracy: 0.9761\n",
      "1800 training_arruracy: 0.9755\n",
      "2000 training_arruracy: 0.9761\n",
      "2200 training_arruracy: 0.9778\n",
      "2400 training_arruracy: 0.9795\n",
      "2600 training_arruracy: 0.9781\n",
      "2800 training_arruracy: 0.9792\n",
      "3000 training_arruracy: 0.9803\n",
      "final_accuracy: 0.9803\n"
     ]
    }
   ],
   "source": [
    "import tensorflow as tf  \n",
    "from tensorflow.examples.tutorials.mnist import input_data  \n",
    "  \n",
    "mnist = input_data.read_data_sets(\"MNIST_data/\", one_hot=True)  \n",
    "in_units = 784 #输入节点数  \n",
    "h1_units = 300 #隐含层节点数  \n",
    "W1 = tf.Variable(tf.truncated_normal([in_units, h1_units], stddev=0.1)) #初始化隐含层权重W1，服从默认均值为0，标准差为0.1的截断正态分布  \n",
    "b1 = tf.Variable(tf.zeros([h1_units])) #隐含层偏置b1全部初始化为0  \n",
    "W2 = tf.Variable(tf.zeros([h1_units, 10]))   \n",
    "b2 = tf.Variable(tf.zeros([10]))  \n",
    "x = tf.placeholder(tf.float32, [None, in_units])  \n",
    "keep_prob = tf.placeholder(tf.float32) #Dropout失活率  \n",
    "  \n",
    "#定义模型结构  \n",
    "hidden1 = tf.nn.relu(tf.matmul(x, W1) + b1)  #使用relu激活函数\n",
    "hidden1_drop = tf.nn.dropout(hidden1, keep_prob)  # 减少过度拟合\n",
    "y = tf.nn.softmax(tf.matmul(hidden1_drop, W2) + b2) #输出\n",
    "  \n",
    "#训练部分  \n",
    "y_ = tf.placeholder(tf.float32, [None, 10])  \n",
    "cross_entropy = tf.reduce_mean(-tf.reduce_sum(y_ * tf.log(y), reduction_indices=[1]))  \n",
    "train_step = tf.train.AdagradOptimizer(0.3).minimize(cross_entropy)  \n",
    "  \n",
    "#定义一个InteractiveSession会话并初始化全部变量  \n",
    "sess = tf.InteractiveSession()  \n",
    "tf.global_variables_initializer().run()  \n",
    "correct_prediction = tf.equal(tf.arg_max(y, 1), tf.arg_max(y_, 1))  \n",
    "accuracy = tf.reduce_mean(tf.cast(correct_prediction, tf.float32))  \n",
    "for i in range(3001):  \n",
    "    batch_xs, batch_ys = mnist.train.next_batch(100)  \n",
    "    train_step.run({x: batch_xs, y_: batch_ys, keep_prob: 0.75})  \n",
    "    if i % 200 ==0:  \n",
    "        #训练过程每200步在测试集上验证一下准确率，动态显示训练过程  \n",
    "        print(i, 'training_arruracy:', accuracy.eval({x: mnist.test.images, y_: mnist.test.labels,   \n",
    "                             keep_prob: 1.0}))  \n",
    "print('final_accuracy:', accuracy.eval({x: mnist.test.images, y_: mnist.test.labels, keep_prob: 1.0}))  \n",
    "\n",
    "\n"
   ]
  },
  {
   "cell_type": "code",
   "execution_count": null,
   "metadata": {
    "collapsed": true
   },
   "outputs": [],
   "source": []
  }
 ],
 "metadata": {
  "kernelspec": {
   "display_name": "Python 3",
   "language": "python",
   "name": "python3"
  },
  "language_info": {
   "codemirror_mode": {
    "name": "ipython",
    "version": 3
   },
   "file_extension": ".py",
   "mimetype": "text/x-python",
   "name": "python",
   "nbconvert_exporter": "python",
   "pygments_lexer": "ipython3",
   "version": "3.5.2"
  }
 },
 "nbformat": 4,
 "nbformat_minor": 2
}
