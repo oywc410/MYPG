{
 "cells": [
  {
   "cell_type": "code",
   "execution_count": 1,
   "metadata": {
    "collapsed": true
   },
   "outputs": [],
   "source": [
    "%matplotlib inline\n",
    "import numpy as np\n",
    "import sklearn.preprocessing as prep\n",
    "import tensorflow as tf\n",
    "from tensorflow.examples.tutorials.mnist import input_data"
   ]
  },
  {
   "cell_type": "markdown",
   "metadata": {},
   "source": [
    "tf 实现的自编码器 \n",
    "这里会使用到一种参数初始化方式Xavier Initialization\n",
    "这里实现标准的均匀分布的Xavier初始化器(目的是为了初始化权重大小)"
   ]
  },
  {
   "cell_type": "code",
   "execution_count": 2,
   "metadata": {
    "collapsed": true
   },
   "outputs": [],
   "source": [
    "#fan_in 输入点的数量\n",
    "#fan_out 输出点的数量\n",
    "def xavier_init(fan_in, fan_out, constant = 1):\n",
    "    low = -constant * np.sqrt(6.0 / (fan_in + fan_out))\n",
    "    high = constant * np.sqrt(6.0 / (fan_in + fan_out))\n",
    "    return tf.random_uniform((fan_in, fan_out),minval = low, maxval = high,dtype = tf.float32)"
   ]
  },
  {
   "cell_type": "code",
   "execution_count": 3,
   "metadata": {
    "collapsed": true
   },
   "outputs": [],
   "source": [
    "#n_input 输入变量数\n",
    "#n_hidden 隐藏层节点数\n",
    "#transfer_function 激活函数\n",
    "#optimizer优化器\n",
    "#scale高斯噪声系数\n",
    "class AdditiveGaussianNoiseAutoencoder(object):\n",
    "    def __init__(self, n_input, n_hidden, transfer_function = tf.nn.softplus, optimizer = tf.train.AdamOptimizer(),scale = 0.1):\n",
    "        self.n_input = n_input\n",
    "        self.n_hidden = n_hidden\n",
    "        self.transfer = transfer_function\n",
    "        self.scale = tf.placeholder(tf.float32) #定义成一个placeholder 偏向\n",
    "        self.training_scale = scale\n",
    "        network_weights = self._initialize_weights()\n",
    "        self.weights = network_weights\n",
    "\n",
    "        # 定义模型，也就是输入层，隐含层，输出层以及之间的映射矩阵\n",
    "        self.x = tf.placeholder(tf.float32, [None, self.n_input]) #举重\n",
    "        self.hidden = self.transfer(\n",
    "            tf.add(\n",
    "                tf.matmul(\n",
    "                    self.x + scale * tf.random_normal((n_input,)), #计算公式 transfer使用激活函数\n",
    "                    self.weights['w1']\n",
    "                ),#带入变量\n",
    "                self.weights['b1']\n",
    "            )\n",
    "        )\n",
    "        self.reconstruction = tf.add(tf.matmul(self.hidden, self.weights['w2']), self.weights['b2']) #输出层不使用激活函数\n",
    "\n",
    "        # 定义损失函数，这里我们使用平方差，因为下面的激活函数选择的是恒等\n",
    "        self.cost = 0.5 * tf.reduce_sum(tf.pow(tf.subtract(self.reconstruction, self.x), 2.0))\n",
    "        self.optimizer = optimizer.minimize(self.cost)#优化器为求损失极小化\n",
    "\n",
    "        init = tf.global_variables_initializer()\n",
    "        self.sess = tf.Session()\n",
    "        self.sess.run(init)\n",
    "        \n",
    "    def _initialize_weights(self):\n",
    "        # 字典类型\n",
    "        all_weights = dict() \n",
    "        # 输入层到隐含层矩阵\n",
    "        all_weights['w1'] = tf.Variable(xavier_init(self.n_input, self.n_hidden))# 使用xavier初始化变量\n",
    "        # 输入层到隐含层偏置向量\n",
    "        all_weights['b1'] = tf.Variable(tf.zeros([self.n_hidden], dtype = tf.float32))\n",
    "        # 隐含层到输出层矩阵，可以看出是w1的逆\n",
    "        all_weights['w2'] = tf.Variable(tf.zeros([self.n_hidden, self.n_input], dtype = tf.float32))\n",
    "        # 隐含层到输出层偏置向量\n",
    "        all_weights['b2'] = tf.Variable(tf.zeros([self.n_input], dtype = tf.float32))\n",
    "        return all_weights\n",
    "    \n",
    "    # partial_fit()使用batch进行训练的函数，训练时使用六cost和optimizer，feed_dict喂数据，包括输入数据和高斯噪声系数。\n",
    "    def partial_fit(self, X):\n",
    "        cost, opt = self.sess.run((self.cost, self.optimizer),feed_dict = {self.x: X,self.scale: self.training_scale})\n",
    "        return cost\n",
    "    \n",
    "    #   calc_total_cost()为只求损失不进行损失极小化操作，只执行cost\n",
    "    def calc_total_cost(self, X):\n",
    "        return self.sess.run(self.cost, feed_dict = {self.x: X,self.scale: self.training_scale})\n",
    "    \n",
    "    #   transform()根据输入获取其隐含层数据。\n",
    "    def transform(self, X):\n",
    "        return self.sess.run(self.hidden, feed_dict = {self.x: X,self.scale: self.training_scale})\n",
    "    \n",
    "    #generate()根据隐含层数据获取输出层数据。\n",
    "    def generate(self, hidden = None):\n",
    "        if hidden is None:hidden = np.random.normal(size = self.weights[\"b1\"])\n",
    "        return self.sess.run(self.reconstruction, feed_dict = {self.hidden: hidden})\n",
    "    \n",
    "    #  reconstruct()根据输入层数据获取输出层数据，相当于transform()+generate()。\n",
    "    def reconstruct(self, X):\n",
    "        return self.sess.run(self.reconstruction, feed_dict = {self.x: X,self.scale: self.training_scale})\n",
    "    \n",
    "    def getWeights(self):\n",
    "        return self.sess.run(self.weights['w1'])\n",
    "\n",
    "    def getBiases(self):\n",
    "        return self.sess.run(self.weights['b1'])"
   ]
  },
  {
   "cell_type": "code",
   "execution_count": 4,
   "metadata": {},
   "outputs": [
    {
     "name": "stdout",
     "output_type": "stream",
     "text": [
      "Extracting MNIST_data/train-images-idx3-ubyte.gz\n",
      "Extracting MNIST_data/train-labels-idx1-ubyte.gz\n",
      "Extracting MNIST_data/t10k-images-idx3-ubyte.gz\n",
      "Extracting MNIST_data/t10k-labels-idx1-ubyte.gz\n"
     ]
    }
   ],
   "source": [
    "mnist = input_data.read_data_sets('MNIST_data', one_hot = True)\n",
    "\n",
    "#   standard_scale()对输入的图片数据和测试数据进行标准化，也就是让图片的像素值映射到0-1空间，这个时候我们需要使用sklearn.preprocessing中的StandardScaler。\n",
    "def standard_scale(X_train, X_test):\n",
    "    preprocessor = prep.StandardScaler().fit(X_train)\n",
    "    X_train = preprocessor.transform(X_train)\n",
    "    X_test = preprocessor.transform(X_test)\n",
    "    return X_train, X_test\n",
    "\n",
    "#  get_random_block_from_data()随机获取若干图片，我们不是把MNIST中所有数据进行训练。\n",
    "def get_random_block_from_data(data, batch_size):\n",
    "    start_index = np.random.randint(0, len(data) - batch_size)\n",
    "    return data[start_index:(start_index + batch_size)]    "
   ]
  },
  {
   "cell_type": "code",
   "execution_count": 5,
   "metadata": {},
   "outputs": [
    {
     "name": "stdout",
     "output_type": "stream",
     "text": [
      "Epoch: 0001 cost= 19611.083736364\n",
      "Epoch: 0002 cost= 12107.804885227\n",
      "Epoch: 0003 cost= 10620.842317045\n",
      "Epoch: 0004 cost= 10308.985145455\n",
      "Epoch: 0005 cost= 9158.406544886\n",
      "Epoch: 0006 cost= 9386.579552841\n",
      "Epoch: 0007 cost= 8847.634278409\n",
      "Epoch: 0008 cost= 8442.755709091\n",
      "Epoch: 0009 cost= 8826.129182386\n",
      "Epoch: 0010 cost= 8314.348363068\n",
      "Epoch: 0011 cost= 8589.324483523\n",
      "Epoch: 0012 cost= 8268.158692045\n",
      "Epoch: 0013 cost= 8704.360668750\n",
      "Epoch: 0014 cost= 8140.573098295\n",
      "Epoch: 0015 cost= 7836.033520455\n",
      "Epoch: 0016 cost= 8458.704494886\n",
      "Epoch: 0017 cost= 8519.741572159\n",
      "Epoch: 0018 cost= 8225.359324432\n",
      "Epoch: 0019 cost= 8132.735385795\n",
      "Epoch: 0020 cost= 7793.019378409\n",
      "Total cost: 700430.0\n"
     ]
    }
   ],
   "source": [
    "X_train, X_test = standard_scale(mnist.train.images, mnist.test.images)\n",
    "\n",
    "n_samples = int(mnist.train.num_examples)\n",
    "training_epochs = 20\n",
    "batch_size = 128\n",
    "display_step = 1\n",
    "\n",
    "autoencoder = AdditiveGaussianNoiseAutoencoder(n_input = 784,\n",
    "                                               n_hidden = 200,\n",
    "                                               transfer_function = tf.nn.softplus,\n",
    "                                               optimizer = tf.train.AdamOptimizer(learning_rate = 0.001),\n",
    "                                               scale = 0.01)\n",
    "\n",
    "for epoch in range(training_epochs):\n",
    "    avg_cost = 0.\n",
    "    total_batch = int(n_samples / batch_size)\n",
    "    # 循环载入训练数据\n",
    "    for i in range(total_batch):\n",
    "        batch_xs = get_random_block_from_data(X_train, batch_size)\n",
    "\n",
    "        # 使用batch喂入训练数据\n",
    "        cost = autoencoder.partial_fit(batch_xs)\n",
    "        # Compute average loss\n",
    "        avg_cost += cost / n_samples * batch_size\n",
    "\n",
    "    # 展示损失\n",
    "    if epoch % display_step == 0:\n",
    "        print(\"Epoch:\", '%04d' % (epoch + 1), \"cost=\", \"{:.9f}\".format(avg_cost))\n",
    "\n",
    "print(\"Total cost: \" + str(autoencoder.calc_total_cost(X_test)))"
   ]
  },
  {
   "cell_type": "code",
   "execution_count": null,
   "metadata": {
    "collapsed": true
   },
   "outputs": [],
   "source": []
  }
 ],
 "metadata": {
  "kernelspec": {
   "display_name": "Python 3",
   "language": "python",
   "name": "python3"
  },
  "language_info": {
   "codemirror_mode": {
    "name": "ipython",
    "version": 3
   },
   "file_extension": ".py",
   "mimetype": "text/x-python",
   "name": "python",
   "nbconvert_exporter": "python",
   "pygments_lexer": "ipython3",
   "version": "3.5.2"
  }
 },
 "nbformat": 4,
 "nbformat_minor": 2
}
