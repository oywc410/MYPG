{
 "cells": [
  {
   "cell_type": "markdown",
   "metadata": {},
   "source": [
    "# Word2Vec 词向量\n",
    "将字词从文字空间映射到向量空间。  \n",
    "Map words from text space to vector space.\n",
    "\n",
    "每个字词都会有一个对应的代表其__语义__的向量。  \n",
    "Each word has a corresponding vector which represents the __semantics__ of a word.\n",
    "\n",
    "有多重方法做到这一点。  \n",
    "Many methods can achieve such a goal.\n",
    "\n",
    "有基于次数和平率的方法。  \n",
    "There are count and frequency based methods.\n",
    "\n",
    "本教程介绍的是论文《[Efficient Estimation of Word Representations in Vector Space](https://arxiv.org/pdf/1301.3781.pdf)》中所使用的方法。  \n",
    "This tutorial explains the method used in [Efficient Estimation of Word Representations in Vector Space](https://arxiv.org/pdf/1301.3781.pdf)"
   ]
  },
  {
   "cell_type": "markdown",
   "metadata": {},
   "source": [
    "__为了最大地照顾到各种同学(不会中文的同学)，我主要用英文。关键句段会有中文。__  \n",
    "__For maximum fellow learners reach（non-Chinese learners）, I will mostly use English. I will provide Chinese for some key phrases.__\n",
    "\n",
    "__英文是在学界与开发者社区是一门重要的语言。中国的同学们多看英文资料也是有好处的。__  \n",
    "__English is an important languge in academia and developer communities. Fellow learners in China can benefit a lot by reading English materials.__"
   ]
  },
  {
   "cell_type": "markdown",
   "metadata": {},
   "source": [
    "### Note:\n",
    "This tutorial is programming oriented. I will descripe it as 20% theory and 80% programming.\n",
    "\n",
    "Therefore, I assume you already have understand the basics of __Deep Learning__.\n",
    "\n",
    "I also assume that you have some experience with [__TensorFlow__](https://www.tensorflow.org/).\n",
    "\n",
    "I strongly encourage you to read all materials linked at the end of this notebook or watch my videos before proceeding."
   ]
  },
  {
   "cell_type": "markdown",
   "metadata": {},
   "source": [
    "## A Gensim example\n",
    "Besides the [TensorFlow example](word2vec.py), I show you a Gensim example here.\n",
    "\n",
    "[Gensim](https://radimrehurek.com/gensim/) is a topic modelling toolkit. It has word2vec implemented."
   ]
  },
  {
   "cell_type": "code",
   "execution_count": 3,
   "metadata": {
    "collapsed": false
   },
   "outputs": [
    {
     "name": "stderr",
     "output_type": "stream",
     "text": [
      "D:\\Anaconda3\\lib\\site-packages\\gensim\\utils.py:855: UserWarning: detected Windows; aliasing chunkize to chunkize_serial\n",
      "  warnings.warn(\"detected Windows; aliasing chunkize to chunkize_serial\")\n"
     ]
    }
   ],
   "source": [
    "### First, get the data\n",
    "### We use the complete works of Shakespear\n",
    "\n"
   ]
  },
  {
   "cell_type": "markdown",
   "metadata": {},
   "source": [
    "## References\n",
    "### Paper\n",
    "[Efficient Estimation of Word Representations in Vector Space](https://arxiv.org/pdf/1301.3781.pdf)  \n",
    "[Distributed Representations of Words and Phrases and their Compositionality](https://arxiv.org/pdf/1310.4546.pdf)  \n",
    "\n",
    "\n",
    "### Other Tutorials\n",
    "[A post by Chris McCormick](http://mccormickml.com/2016/04/27/word2vec-resources/)  \n",
    "[Second post by Chris McCormick](http://mccormickml.com/2017/01/11/word2vec-tutorial-part-2-negative-sampling/)  \n",
    "\n",
    "### TensorFlow\n",
    "[TensorFlow Tutorial](https://www.tensorflow.org/tutorials/word2vec)  \n",
    "[TensorFlow Example Code](https://github.com/tensorflow/tensorflow/blob/master/tensorflow/examples/tutorials/word2vec/word2vec_basic.py)  "
   ]
  }
 ],
 "metadata": {
  "kernelspec": {
   "display_name": "Python 3",
   "language": "python",
   "name": "python3"
  },
  "language_info": {
   "codemirror_mode": {
    "name": "ipython",
    "version": 3
   },
   "file_extension": ".py",
   "mimetype": "text/x-python",
   "name": "python",
   "nbconvert_exporter": "python",
   "pygments_lexer": "ipython3",
   "version": "3.5.2"
  }
 },
 "nbformat": 4,
 "nbformat_minor": 2
}
