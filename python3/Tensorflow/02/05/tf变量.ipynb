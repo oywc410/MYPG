{
 "cells": [
  {
   "cell_type": "code",
   "execution_count": 7,
   "metadata": {
    "collapsed": true
   },
   "outputs": [],
   "source": [
    "%matplotlib inline\n",
    "import matplotlib.pyplot as plt\n",
    "import numpy as np\n",
    "import pandas as pd\n",
    "import tensorflow as tf"
   ]
  },
  {
   "cell_type": "code",
   "execution_count": 2,
   "metadata": {},
   "outputs": [
    {
     "name": "stdout",
     "output_type": "stream",
     "text": [
      "390\n"
     ]
    }
   ],
   "source": [
    "#常量\n",
    "a = tf.constant(120, name=\"a\")\n",
    "b = tf.constant(130, name=\"b\")\n",
    "c = tf.constant(140, name=\"c\")\n",
    "#变量\n",
    "v = tf.Variable(0, name=\"v\")\n",
    "\n",
    "#计算\n",
    "calc_op = a + b + c\n",
    "assign_op = tf.assign(v, calc_op)\n",
    "sess = tf.Session()\n",
    "sess.run(assign_op)\n",
    "\n",
    "print(sess.run(v))"
   ]
  },
  {
   "cell_type": "code",
   "execution_count": 4,
   "metadata": {},
   "outputs": [
    {
     "name": "stdout",
     "output_type": "stream",
     "text": [
      "[2 4 6]\n",
      "[20 40 60]\n"
     ]
    }
   ],
   "source": [
    "#预设值\n",
    "a = tf.placeholder(tf.int32, [3]) #声明 长度为3的数组\n",
    "b = tf.constant(2)\n",
    "x2_op = a * b\n",
    "\n",
    "sess = tf.Session()\n",
    "\n",
    "r1 = sess.run(x2_op, feed_dict={ a:[1, 2, 3] })\n",
    "print(r1)\n",
    "r2 = sess.run(x2_op, feed_dict={ a:[10, 20, 30] })\n",
    "print(r2)"
   ]
  },
  {
   "cell_type": "code",
   "execution_count": 6,
   "metadata": {},
   "outputs": [
    {
     "name": "stdout",
     "output_type": "stream",
     "text": [
      "[ 2  4  6  8 10 12]\n",
      "[20 40 60]\n"
     ]
    }
   ],
   "source": [
    "a = tf.placeholder(tf.int32, [None]) #声明 长度为任意\n",
    "b = tf.constant(2)\n",
    "x2_op = a * b\n",
    "\n",
    "sess = tf.Session()\n",
    "\n",
    "r1 = sess.run(x2_op, feed_dict={ a:[1, 2, 3, 4, 5, 6] })\n",
    "print(r1)\n",
    "r2 = sess.run(x2_op, feed_dict={ a:[10, 20, 30] })\n",
    "print(r2)"
   ]
  },
  {
   "cell_type": "code",
   "execution_count": 20,
   "metadata": {},
   "outputs": [
    {
     "name": "stdout",
     "output_type": "stream",
     "text": [
      "step= 0 cre= 108.663 acc= 0.3242\n",
      "step= 500 cre= 57.5887 acc= 0.8904\n",
      "step= 1000 cre= 45.0209 acc= 0.898\n",
      "step= 1500 cre= 41.6543 acc= 0.9566\n",
      "step= 2000 cre= 34.664 acc= 0.943\n",
      "step= 2500 cre= 34.287 acc= 0.9674\n",
      "step= 3000 cre= 26.8808 acc= 0.9726\n",
      "正确率= 0.9712\n"
     ]
    }
   ],
   "source": [
    "#深度学习挑战\n",
    "#CSV 身高,体重,标签\n",
    "csv = pd.read_csv(\"bmi.csv\")\n",
    "#数据整理\n",
    "csv[\"height\"] = csv[\"height\"] / 200\n",
    "csv[\"weight\"] = csv[\"weight\"] / 100\n",
    "#标签的三种表现形式\n",
    "bclass = {\"thin\": [1,0,0], \"normal\": [0,1,0], \"fat\":[0,0,1]}\n",
    "csv[\"label_pat\"] = csv[\"label\"].apply(lambda x: np.array(bclass[x]))\n",
    "#print(csv[\"label_pat\"])\n",
    "\n",
    "#测试数据\n",
    "test_csv = csv[15000:20000]\n",
    "test_pat = test_csv[[\"weight\", \"height\"]]\n",
    "test_ans = list(test_csv[\"label_pat\"])\n",
    "#print(test_pat)\n",
    "#print(test_ans)\n",
    "\n",
    "#准备训练数据\n",
    "x = tf.placeholder(tf.float32, [None, 2]) #身体,体重数据\n",
    "y_ = tf.placeholder(tf.float32, [None, 3]) #标签\n",
    "#变量\n",
    "W = tf.Variable(tf.zeros([2, 3])) #权重\n",
    "b = tf.Variable(tf.zeros([3])) #偏向\n",
    "#回归函数\n",
    "y = tf.nn.softmax(tf.matmul(x, W) + b)\n",
    "\n",
    "#模型训练\n",
    "cross_entropy = -tf.reduce_sum(y_ * tf.log(y))\n",
    "#反向计算\n",
    "optimizer = tf.train.GradientDescentOptimizer(0.01)\n",
    "train = optimizer.minimize(cross_entropy)\n",
    "\n",
    "#正确率计算\n",
    "#检测标签 argmax 获取其中的最大值的索引 及 返回的是模型对于任一输入x预测到的标签值 \n",
    "predict = tf.equal(tf.argmax(y, 1), tf.argmax(y_, 1))\n",
    "#reduce_mean跨维度计算平均值  cast [True，False，True，True] => [1, 0 ,1, 1]  ==> 0.75\n",
    "#tf.equal 来检测我们的预测是否真实标签匹配(索引位置一样表示匹配)\n",
    "accuracy = tf.reduce_mean(tf.cast(predict, tf.float32))\n",
    "\n",
    "#开始执行\n",
    "sess = tf.Session()\n",
    "sess.run(tf.global_variables_initializer()) #变量初始化\n",
    "#训练\n",
    "for step in range(3500):\n",
    "    i = (step * 100) % 14000\n",
    "    rows = csv[1 + i : 1 + i + 100]\n",
    "    x_pat = rows[[\"weight\", \"height\"]]\n",
    "    y_ans = list(rows[\"label_pat\"])\n",
    "    fd = {x: x_pat, y_: y_ans}\n",
    "    sess.run(train, feed_dict=fd)\n",
    "    if step % 500 == 0:\n",
    "        cre = sess.run(cross_entropy, feed_dict=fd) #预测\n",
    "        acc = sess.run(accuracy, feed_dict={x: test_pat, y_: test_ans}) #计算\n",
    "        print(\"step=\", step, \"cre=\", cre, \"acc=\", acc)\n",
    "\n",
    "#最终正确率\n",
    "acc = sess.run(accuracy, feed_dict={x: test_pat, y_: test_ans})\n",
    "print(\"正确率=\", acc)"
   ]
  }
 ],
 "metadata": {
  "kernelspec": {
   "display_name": "Python 3",
   "language": "python",
   "name": "python3"
  },
  "language_info": {
   "codemirror_mode": {
    "name": "ipython",
    "version": 3
   },
   "file_extension": ".py",
   "mimetype": "text/x-python",
   "name": "python",
   "nbconvert_exporter": "python",
   "pygments_lexer": "ipython3",
   "version": "3.5.2"
  }
 },
 "nbformat": 4,
 "nbformat_minor": 2
}
